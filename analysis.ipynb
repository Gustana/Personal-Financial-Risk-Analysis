{
 "cells": [
  {
   "cell_type": "markdown",
   "metadata": {},
   "source": [
    "# Problem Identification"
   ]
  },
  {
   "cell_type": "markdown",
   "metadata": {},
   "source": [
    "Personal financial **risk assessment is important to analyze because it allows us to reduce financial risk through effective risk management.**\n",
    "\n",
    "Thus, this project is used to `analyze personal risk assessment` globally\n",
    "\n",
    "The main objectives of this project is described using SMART Framework defined below.\n",
    "\n",
    "> To reduce the occurrence of high financial risk ratings globally by 3% within 3 months, I will analyze a dataset gathered from Kaggle. This analysis will involve formulating relevant questions and creating visualizations based on the identified issues. The findings will help understand the contributing factors and provide targeted recommendations to address the high financial risk ratings."
   ]
  },
  {
   "cell_type": "markdown",
   "metadata": {},
   "source": [
    "As stated in my previous objectives, I want to analyze my dataset to answer the following questions:\n",
    "\n",
    "1. What's the `sum of loan based on education level and risk rating`\n",
    "\n",
    "2. What's the `average of debt-to-income ratio grouped by employment status and age group`\n",
    "\n",
    "3. What's the `average assets based on their educational level and risk rating`\n",
    "\n",
    "4. What's the `proportion of high financial risk rating by age group`\n",
    "\n",
    "5. What's the `proportion of loan purposes by high financial risk rating`\n",
    "\n",
    "6. What's the `distribution of debt-to-income ratio by financial risk rating`\n",
    "\n",
    "7. How are the `education level and risk rating correlated?`"
   ]
  },
  {
   "cell_type": "markdown",
   "metadata": {
    "editable": true,
    "slideshow": {
     "slide_type": ""
    },
    "tags": []
   },
   "source": [
    "Based on my previous questions, I will use relevant data to support my analysis, which are:\n",
    "\n",
    "- Age\n",
    "- Assets Value\n",
    "- Debt-to-Income Ratio\n",
    "- Education Level\n",
    "- Employment Status\n",
    "- Income\n",
    "- Loan Amount\n",
    "- Loan Purpose\n",
    "- Risk Rating"
   ]
  },
  {
   "cell_type": "markdown",
   "metadata": {},
   "source": [
    "# Import Libs"
   ]
  },
  {
   "cell_type": "code",
   "execution_count": 2,
   "metadata": {},
   "outputs": [],
   "source": [
    "import pandas as pd\n",
    "\n",
    "import matplotlib.pyplot as plt\n",
    "import seaborn as sns\n",
    "import seaborn.objects as so\n",
    "\n",
    "import scipy.stats as stats"
   ]
  },
  {
   "cell_type": "markdown",
   "metadata": {},
   "source": [
    "# Data Loading"
   ]
  },
  {
   "cell_type": "markdown",
   "metadata": {},
   "source": [
    "In this section I will load the dataset that was gathered from [kaggle](https://www.kaggle.com/datasets/preethamgouda/financial-risk) and do some simple inspections, such as:\n",
    "\n",
    "- Inspect the dataset's overview\n",
    "- Inspect dataset's summary\n",
    "- Inspect dataset's column names\n",
    "- Inspect unique values of multiple columns in the dataframe"
   ]
  },
  {
   "cell_type": "code",
   "execution_count": 3,
   "metadata": {
    "editable": true,
    "slideshow": {
     "slide_type": ""
    },
    "tags": []
   },
   "outputs": [],
   "source": [
    "# define const\n",
    "FILE_PATH = \"dataset/financial_risk_assessment.csv\""
   ]
  },
  {
   "cell_type": "code",
   "execution_count": 4,
   "metadata": {
    "editable": true,
    "slideshow": {
     "slide_type": ""
    },
    "tags": []
   },
   "outputs": [
    {
     "data": {
      "text/html": [
       "<div>\n",
       "<style scoped>\n",
       "    .dataframe tbody tr th:only-of-type {\n",
       "        vertical-align: middle;\n",
       "    }\n",
       "\n",
       "    .dataframe tbody tr th {\n",
       "        vertical-align: top;\n",
       "    }\n",
       "\n",
       "    .dataframe thead th {\n",
       "        text-align: right;\n",
       "    }\n",
       "</style>\n",
       "<table border=\"1\" class=\"dataframe\">\n",
       "  <thead>\n",
       "    <tr style=\"text-align: right;\">\n",
       "      <th></th>\n",
       "      <th>Age</th>\n",
       "      <th>Gender</th>\n",
       "      <th>Education Level</th>\n",
       "      <th>Marital Status</th>\n",
       "      <th>Income</th>\n",
       "      <th>Credit Score</th>\n",
       "      <th>Loan Amount</th>\n",
       "      <th>Loan Purpose</th>\n",
       "      <th>Employment Status</th>\n",
       "      <th>Years at Current Job</th>\n",
       "      <th>Payment History</th>\n",
       "      <th>Debt-to-Income Ratio</th>\n",
       "      <th>Assets Value</th>\n",
       "      <th>Number of Dependents</th>\n",
       "      <th>City</th>\n",
       "      <th>State</th>\n",
       "      <th>Country</th>\n",
       "      <th>Previous Defaults</th>\n",
       "      <th>Marital Status Change</th>\n",
       "      <th>Risk Rating</th>\n",
       "    </tr>\n",
       "  </thead>\n",
       "  <tbody>\n",
       "    <tr>\n",
       "      <th>0</th>\n",
       "      <td>49</td>\n",
       "      <td>Male</td>\n",
       "      <td>PhD</td>\n",
       "      <td>Divorced</td>\n",
       "      <td>72799.0</td>\n",
       "      <td>688.0</td>\n",
       "      <td>45713.0</td>\n",
       "      <td>Business</td>\n",
       "      <td>Unemployed</td>\n",
       "      <td>19</td>\n",
       "      <td>Poor</td>\n",
       "      <td>0.154313</td>\n",
       "      <td>120228.0</td>\n",
       "      <td>0.0</td>\n",
       "      <td>Port Elizabeth</td>\n",
       "      <td>AS</td>\n",
       "      <td>Cyprus</td>\n",
       "      <td>2.0</td>\n",
       "      <td>2</td>\n",
       "      <td>Low</td>\n",
       "    </tr>\n",
       "    <tr>\n",
       "      <th>1</th>\n",
       "      <td>57</td>\n",
       "      <td>Female</td>\n",
       "      <td>Bachelor's</td>\n",
       "      <td>Widowed</td>\n",
       "      <td>NaN</td>\n",
       "      <td>690.0</td>\n",
       "      <td>33835.0</td>\n",
       "      <td>Auto</td>\n",
       "      <td>Employed</td>\n",
       "      <td>6</td>\n",
       "      <td>Fair</td>\n",
       "      <td>0.148920</td>\n",
       "      <td>55849.0</td>\n",
       "      <td>0.0</td>\n",
       "      <td>North Catherine</td>\n",
       "      <td>OH</td>\n",
       "      <td>Turkmenistan</td>\n",
       "      <td>3.0</td>\n",
       "      <td>2</td>\n",
       "      <td>Medium</td>\n",
       "    </tr>\n",
       "    <tr>\n",
       "      <th>2</th>\n",
       "      <td>21</td>\n",
       "      <td>Non-binary</td>\n",
       "      <td>Master's</td>\n",
       "      <td>Single</td>\n",
       "      <td>55687.0</td>\n",
       "      <td>600.0</td>\n",
       "      <td>36623.0</td>\n",
       "      <td>Home</td>\n",
       "      <td>Employed</td>\n",
       "      <td>8</td>\n",
       "      <td>Fair</td>\n",
       "      <td>0.362398</td>\n",
       "      <td>180700.0</td>\n",
       "      <td>3.0</td>\n",
       "      <td>South Scott</td>\n",
       "      <td>OK</td>\n",
       "      <td>Luxembourg</td>\n",
       "      <td>3.0</td>\n",
       "      <td>2</td>\n",
       "      <td>Medium</td>\n",
       "    </tr>\n",
       "    <tr>\n",
       "      <th>3</th>\n",
       "      <td>59</td>\n",
       "      <td>Male</td>\n",
       "      <td>Bachelor's</td>\n",
       "      <td>Single</td>\n",
       "      <td>26508.0</td>\n",
       "      <td>622.0</td>\n",
       "      <td>26541.0</td>\n",
       "      <td>Personal</td>\n",
       "      <td>Unemployed</td>\n",
       "      <td>2</td>\n",
       "      <td>Excellent</td>\n",
       "      <td>0.454964</td>\n",
       "      <td>157319.0</td>\n",
       "      <td>3.0</td>\n",
       "      <td>Robinhaven</td>\n",
       "      <td>PR</td>\n",
       "      <td>Uganda</td>\n",
       "      <td>4.0</td>\n",
       "      <td>2</td>\n",
       "      <td>Medium</td>\n",
       "    </tr>\n",
       "    <tr>\n",
       "      <th>4</th>\n",
       "      <td>25</td>\n",
       "      <td>Non-binary</td>\n",
       "      <td>Bachelor's</td>\n",
       "      <td>Widowed</td>\n",
       "      <td>49427.0</td>\n",
       "      <td>766.0</td>\n",
       "      <td>36528.0</td>\n",
       "      <td>Personal</td>\n",
       "      <td>Unemployed</td>\n",
       "      <td>10</td>\n",
       "      <td>Fair</td>\n",
       "      <td>0.143242</td>\n",
       "      <td>287140.0</td>\n",
       "      <td>NaN</td>\n",
       "      <td>New Heather</td>\n",
       "      <td>IL</td>\n",
       "      <td>Namibia</td>\n",
       "      <td>3.0</td>\n",
       "      <td>1</td>\n",
       "      <td>Low</td>\n",
       "    </tr>\n",
       "    <tr>\n",
       "      <th>...</th>\n",
       "      <td>...</td>\n",
       "      <td>...</td>\n",
       "      <td>...</td>\n",
       "      <td>...</td>\n",
       "      <td>...</td>\n",
       "      <td>...</td>\n",
       "      <td>...</td>\n",
       "      <td>...</td>\n",
       "      <td>...</td>\n",
       "      <td>...</td>\n",
       "      <td>...</td>\n",
       "      <td>...</td>\n",
       "      <td>...</td>\n",
       "      <td>...</td>\n",
       "      <td>...</td>\n",
       "      <td>...</td>\n",
       "      <td>...</td>\n",
       "      <td>...</td>\n",
       "      <td>...</td>\n",
       "      <td>...</td>\n",
       "    </tr>\n",
       "    <tr>\n",
       "      <th>14995</th>\n",
       "      <td>23</td>\n",
       "      <td>Non-binary</td>\n",
       "      <td>Bachelor's</td>\n",
       "      <td>Widowed</td>\n",
       "      <td>48088.0</td>\n",
       "      <td>609.0</td>\n",
       "      <td>26187.0</td>\n",
       "      <td>Home</td>\n",
       "      <td>Self-employed</td>\n",
       "      <td>2</td>\n",
       "      <td>Fair</td>\n",
       "      <td>0.317633</td>\n",
       "      <td>NaN</td>\n",
       "      <td>4.0</td>\n",
       "      <td>Susanstad</td>\n",
       "      <td>TN</td>\n",
       "      <td>Djibouti</td>\n",
       "      <td>2.0</td>\n",
       "      <td>0</td>\n",
       "      <td>Low</td>\n",
       "    </tr>\n",
       "    <tr>\n",
       "      <th>14996</th>\n",
       "      <td>56</td>\n",
       "      <td>Male</td>\n",
       "      <td>PhD</td>\n",
       "      <td>Single</td>\n",
       "      <td>107193.0</td>\n",
       "      <td>700.0</td>\n",
       "      <td>35111.0</td>\n",
       "      <td>Auto</td>\n",
       "      <td>Self-employed</td>\n",
       "      <td>10</td>\n",
       "      <td>Fair</td>\n",
       "      <td>0.155126</td>\n",
       "      <td>79102.0</td>\n",
       "      <td>NaN</td>\n",
       "      <td>Port Heather</td>\n",
       "      <td>WA</td>\n",
       "      <td>Congo</td>\n",
       "      <td>0.0</td>\n",
       "      <td>0</td>\n",
       "      <td>Medium</td>\n",
       "    </tr>\n",
       "    <tr>\n",
       "      <th>14997</th>\n",
       "      <td>29</td>\n",
       "      <td>Non-binary</td>\n",
       "      <td>PhD</td>\n",
       "      <td>Married</td>\n",
       "      <td>46250.0</td>\n",
       "      <td>642.0</td>\n",
       "      <td>44369.0</td>\n",
       "      <td>Home</td>\n",
       "      <td>Unemployed</td>\n",
       "      <td>19</td>\n",
       "      <td>Excellent</td>\n",
       "      <td>0.593999</td>\n",
       "      <td>196930.0</td>\n",
       "      <td>4.0</td>\n",
       "      <td>South Morganchester</td>\n",
       "      <td>LA</td>\n",
       "      <td>Palau</td>\n",
       "      <td>2.0</td>\n",
       "      <td>1</td>\n",
       "      <td>High</td>\n",
       "    </tr>\n",
       "    <tr>\n",
       "      <th>14998</th>\n",
       "      <td>53</td>\n",
       "      <td>Non-binary</td>\n",
       "      <td>PhD</td>\n",
       "      <td>Divorced</td>\n",
       "      <td>40180.0</td>\n",
       "      <td>638.0</td>\n",
       "      <td>32752.0</td>\n",
       "      <td>Home</td>\n",
       "      <td>Self-employed</td>\n",
       "      <td>12</td>\n",
       "      <td>Excellent</td>\n",
       "      <td>0.478035</td>\n",
       "      <td>276060.0</td>\n",
       "      <td>NaN</td>\n",
       "      <td>Port Wayne</td>\n",
       "      <td>AK</td>\n",
       "      <td>Rwanda</td>\n",
       "      <td>0.0</td>\n",
       "      <td>2</td>\n",
       "      <td>High</td>\n",
       "    </tr>\n",
       "    <tr>\n",
       "      <th>14999</th>\n",
       "      <td>24</td>\n",
       "      <td>Non-binary</td>\n",
       "      <td>Bachelor's</td>\n",
       "      <td>Widowed</td>\n",
       "      <td>NaN</td>\n",
       "      <td>765.0</td>\n",
       "      <td>NaN</td>\n",
       "      <td>Personal</td>\n",
       "      <td>Self-employed</td>\n",
       "      <td>18</td>\n",
       "      <td>Excellent</td>\n",
       "      <td>0.116083</td>\n",
       "      <td>71699.0</td>\n",
       "      <td>3.0</td>\n",
       "      <td>South Stacy</td>\n",
       "      <td>WA</td>\n",
       "      <td>Saint Pierre and Miquelon</td>\n",
       "      <td>3.0</td>\n",
       "      <td>2</td>\n",
       "      <td>Low</td>\n",
       "    </tr>\n",
       "  </tbody>\n",
       "</table>\n",
       "<p>15000 rows × 20 columns</p>\n",
       "</div>"
      ],
      "text/plain": [
       "       Age      Gender Education Level Marital Status    Income  Credit Score  \\\n",
       "0       49        Male             PhD       Divorced   72799.0         688.0   \n",
       "1       57      Female      Bachelor's        Widowed       NaN         690.0   \n",
       "2       21  Non-binary        Master's         Single   55687.0         600.0   \n",
       "3       59        Male      Bachelor's         Single   26508.0         622.0   \n",
       "4       25  Non-binary      Bachelor's        Widowed   49427.0         766.0   \n",
       "...    ...         ...             ...            ...       ...           ...   \n",
       "14995   23  Non-binary      Bachelor's        Widowed   48088.0         609.0   \n",
       "14996   56        Male             PhD         Single  107193.0         700.0   \n",
       "14997   29  Non-binary             PhD        Married   46250.0         642.0   \n",
       "14998   53  Non-binary             PhD       Divorced   40180.0         638.0   \n",
       "14999   24  Non-binary      Bachelor's        Widowed       NaN         765.0   \n",
       "\n",
       "       Loan Amount Loan Purpose Employment Status  Years at Current Job  \\\n",
       "0          45713.0     Business        Unemployed                    19   \n",
       "1          33835.0         Auto          Employed                     6   \n",
       "2          36623.0         Home          Employed                     8   \n",
       "3          26541.0     Personal        Unemployed                     2   \n",
       "4          36528.0     Personal        Unemployed                    10   \n",
       "...            ...          ...               ...                   ...   \n",
       "14995      26187.0         Home     Self-employed                     2   \n",
       "14996      35111.0         Auto     Self-employed                    10   \n",
       "14997      44369.0         Home        Unemployed                    19   \n",
       "14998      32752.0         Home     Self-employed                    12   \n",
       "14999          NaN     Personal     Self-employed                    18   \n",
       "\n",
       "      Payment History  Debt-to-Income Ratio  Assets Value  \\\n",
       "0                Poor              0.154313      120228.0   \n",
       "1                Fair              0.148920       55849.0   \n",
       "2                Fair              0.362398      180700.0   \n",
       "3           Excellent              0.454964      157319.0   \n",
       "4                Fair              0.143242      287140.0   \n",
       "...               ...                   ...           ...   \n",
       "14995            Fair              0.317633           NaN   \n",
       "14996            Fair              0.155126       79102.0   \n",
       "14997       Excellent              0.593999      196930.0   \n",
       "14998       Excellent              0.478035      276060.0   \n",
       "14999       Excellent              0.116083       71699.0   \n",
       "\n",
       "       Number of Dependents                 City State  \\\n",
       "0                       0.0       Port Elizabeth    AS   \n",
       "1                       0.0      North Catherine    OH   \n",
       "2                       3.0          South Scott    OK   \n",
       "3                       3.0           Robinhaven    PR   \n",
       "4                       NaN          New Heather    IL   \n",
       "...                     ...                  ...   ...   \n",
       "14995                   4.0            Susanstad    TN   \n",
       "14996                   NaN         Port Heather    WA   \n",
       "14997                   4.0  South Morganchester    LA   \n",
       "14998                   NaN           Port Wayne    AK   \n",
       "14999                   3.0          South Stacy    WA   \n",
       "\n",
       "                         Country  Previous Defaults  Marital Status Change  \\\n",
       "0                         Cyprus                2.0                      2   \n",
       "1                   Turkmenistan                3.0                      2   \n",
       "2                     Luxembourg                3.0                      2   \n",
       "3                         Uganda                4.0                      2   \n",
       "4                        Namibia                3.0                      1   \n",
       "...                          ...                ...                    ...   \n",
       "14995                   Djibouti                2.0                      0   \n",
       "14996                      Congo                0.0                      0   \n",
       "14997                      Palau                2.0                      1   \n",
       "14998                     Rwanda                0.0                      2   \n",
       "14999  Saint Pierre and Miquelon                3.0                      2   \n",
       "\n",
       "      Risk Rating  \n",
       "0             Low  \n",
       "1          Medium  \n",
       "2          Medium  \n",
       "3          Medium  \n",
       "4             Low  \n",
       "...           ...  \n",
       "14995         Low  \n",
       "14996      Medium  \n",
       "14997        High  \n",
       "14998        High  \n",
       "14999         Low  \n",
       "\n",
       "[15000 rows x 20 columns]"
      ]
     },
     "execution_count": 4,
     "metadata": {},
     "output_type": "execute_result"
    }
   ],
   "source": [
    "# load dataset \n",
    "df = pd.read_csv(FILE_PATH)\n",
    "df"
   ]
  },
  {
   "cell_type": "markdown",
   "metadata": {},
   "source": [
    "Insights:\n",
    "- There are 15,000 rows and 20 columns in the dataset\n",
    "- There are some missing values on assets value and number of dependents, but there might be any on other columns as well"
   ]
  },
  {
   "cell_type": "code",
   "execution_count": 5,
   "metadata": {},
   "outputs": [
    {
     "name": "stdout",
     "output_type": "stream",
     "text": [
      "<class 'pandas.core.frame.DataFrame'>\n",
      "RangeIndex: 15000 entries, 0 to 14999\n",
      "Data columns (total 20 columns):\n",
      " #   Column                 Non-Null Count  Dtype  \n",
      "---  ------                 --------------  -----  \n",
      " 0   Age                    15000 non-null  int64  \n",
      " 1   Gender                 15000 non-null  object \n",
      " 2   Education Level        15000 non-null  object \n",
      " 3   Marital Status         15000 non-null  object \n",
      " 4   Income                 12750 non-null  float64\n",
      " 5   Credit Score           12750 non-null  float64\n",
      " 6   Loan Amount            12750 non-null  float64\n",
      " 7   Loan Purpose           15000 non-null  object \n",
      " 8   Employment Status      15000 non-null  object \n",
      " 9   Years at Current Job   15000 non-null  int64  \n",
      " 10  Payment History        15000 non-null  object \n",
      " 11  Debt-to-Income Ratio   15000 non-null  float64\n",
      " 12  Assets Value           12750 non-null  float64\n",
      " 13  Number of Dependents   12750 non-null  float64\n",
      " 14  City                   15000 non-null  object \n",
      " 15  State                  15000 non-null  object \n",
      " 16  Country                15000 non-null  object \n",
      " 17  Previous Defaults      12750 non-null  float64\n",
      " 18  Marital Status Change  15000 non-null  int64  \n",
      " 19  Risk Rating            15000 non-null  object \n",
      "dtypes: float64(7), int64(3), object(10)\n",
      "memory usage: 2.3+ MB\n"
     ]
    }
   ],
   "source": [
    "df.info()"
   ]
  },
  {
   "cell_type": "code",
   "execution_count": 6,
   "metadata": {},
   "outputs": [
    {
     "data": {
      "text/plain": [
       "Age                         0\n",
       "Gender                      0\n",
       "Education Level             0\n",
       "Marital Status              0\n",
       "Income                   2250\n",
       "Credit Score             2250\n",
       "Loan Amount              2250\n",
       "Loan Purpose                0\n",
       "Employment Status           0\n",
       "Years at Current Job        0\n",
       "Payment History             0\n",
       "Debt-to-Income Ratio        0\n",
       "Assets Value             2250\n",
       "Number of Dependents     2250\n",
       "City                        0\n",
       "State                       0\n",
       "Country                     0\n",
       "Previous Defaults        2250\n",
       "Marital Status Change       0\n",
       "Risk Rating                 0\n",
       "dtype: int64"
      ]
     },
     "execution_count": 6,
     "metadata": {},
     "output_type": "execute_result"
    }
   ],
   "source": [
    "df.isna().sum()"
   ]
  },
  {
   "cell_type": "markdown",
   "metadata": {},
   "source": [
    "## Insights & Actions"
   ]
  },
  {
   "cell_type": "markdown",
   "metadata": {},
   "source": [
    "Insights:   \n",
    "- There are 15,000 observations and 20 columns in the dataset.\n",
    "- There are some columns containing missing values of 2,250 observations, such as: `Income`, `Credit Score`, `Loan Amount`, `Assets Value`, `Number of Dependents`\n",
    "\n",
    "- Some columns are using inappropriate data type, this problem defined as follows:\n",
    "    - Should be `categorical`:\n",
    "        - Employment Status\n",
    "        - Education Level\n",
    "        - Risk Rating\n",
    "        - Loan Purpose\n",
    "\n",
    "Actions:\n",
    "- Adjust data type of columns defined above\n",
    "- Identify missing values whether the are MAR, MCAR, or MNAR. But, **I need to filter required columns first**"
   ]
  },
  {
   "cell_type": "code",
   "execution_count": 7,
   "metadata": {
    "editable": true,
    "slideshow": {
     "slide_type": ""
    },
    "tags": []
   },
   "outputs": [
    {
     "data": {
      "text/plain": [
       "Index(['Age', 'Gender', 'Education Level', 'Marital Status', 'Income',\n",
       "       'Credit Score', 'Loan Amount', 'Loan Purpose', 'Employment Status',\n",
       "       'Years at Current Job', 'Payment History', 'Debt-to-Income Ratio',\n",
       "       'Assets Value', 'Number of Dependents', 'City', 'State', 'Country',\n",
       "       'Previous Defaults', 'Marital Status Change', 'Risk Rating'],\n",
       "      dtype='object')"
      ]
     },
     "execution_count": 7,
     "metadata": {},
     "output_type": "execute_result"
    }
   ],
   "source": [
    "df.columns"
   ]
  },
  {
   "cell_type": "markdown",
   "metadata": {},
   "source": [
    "Insights:\n",
    "\n",
    "- All columns' names are clear and ready to be used for further analysis"
   ]
  },
  {
   "cell_type": "code",
   "execution_count": 8,
   "metadata": {},
   "outputs": [
    {
     "name": "stdout",
     "output_type": "stream",
     "text": [
      "Gender\n",
      "['Male' 'Female' 'Non-binary']\n",
      "\n",
      "Education Level\n",
      "['PhD' \"Bachelor's\" \"Master's\" 'High School']\n",
      "\n",
      "Marital Status\n",
      "['Divorced' 'Widowed' 'Single' 'Married']\n",
      "\n",
      "Loan Purpose\n",
      "['Business' 'Auto' 'Home' 'Personal']\n",
      "\n",
      "Employment Status\n",
      "['Unemployed' 'Employed' 'Self-employed']\n",
      "\n",
      "Payment History\n",
      "['Poor' 'Fair' 'Excellent' 'Good']\n",
      "\n",
      "City\n",
      "['Port Elizabeth' 'North Catherine' 'South Scott' ... 'Susanstad'\n",
      " 'South Morganchester' 'Port Wayne']\n",
      "\n",
      "State\n",
      "['AS' 'OH' 'OK' 'PR' 'IL' 'TN' 'MD' 'MA' 'DC' 'VT' 'NH' 'NM' 'IA' 'AZ'\n",
      " 'MH' 'MO' 'MS' 'MP' 'DE' 'UT' 'KS' 'VI' 'CO' 'OR' 'VA' 'GA' 'ID' 'HI'\n",
      " 'AL' 'TX' 'WY' 'KY' 'WA' 'RI' 'LA' 'MI' 'WV' 'ND' 'NY' 'NJ' 'CT' 'PW'\n",
      " 'NV' 'FM' 'CA' 'NC' 'IN' 'GU' 'AR' 'WI' 'SD' 'MT' 'MN' 'NE' 'SC' 'ME'\n",
      " 'AK' 'PA' 'FL']\n",
      "\n",
      "Country\n",
      "['Cyprus' 'Turkmenistan' 'Luxembourg' 'Uganda' 'Namibia' 'Iceland'\n",
      " 'Bouvet Island (Bouvetoya)' 'Honduras' 'Pitcairn Islands' 'Thailand'\n",
      " 'French Guiana' 'Antarctica (the territory South of 60 deg S)' 'Eritrea'\n",
      " 'Grenada' 'Solomon Islands' 'Guadeloupe' 'Tonga' 'Taiwan' 'Malawi'\n",
      " 'Isle of Man' 'Kenya' 'Zambia' 'Oman' 'Uruguay' 'Gambia' 'Iran'\n",
      " 'South Georgia and the South Sandwich Islands' 'Palau' 'Tokelau'\n",
      " 'Saint Pierre and Miquelon' 'Hungary' 'Guyana' \"Cote d'Ivoire\" 'Nauru'\n",
      " 'Guam' 'Burundi' 'Belize' 'Seychelles' 'Sao Tome and Principe' 'Anguilla'\n",
      " 'Svalbard & Jan Mayen Islands' 'China' 'Niue' 'Martinique' 'Tajikistan'\n",
      " 'Vietnam' 'Kuwait' 'Falkland Islands (Malvinas)'\n",
      " 'British Indian Ocean Territory (Chagos Archipelago)'\n",
      " 'Holy See (Vatican City State)' 'Singapore' 'Georgia' 'Dominica'\n",
      " 'Brunei Darussalam' 'French Polynesia' 'Zimbabwe' 'Serbia' 'Pakistan'\n",
      " 'Haiti' 'San Marino' 'Kazakhstan' 'Armenia' 'Netherlands' 'Greece'\n",
      " 'Somalia' 'Latvia' 'Mexico' 'French Southern Territories' 'South Africa'\n",
      " 'Egypt' 'Jordan' 'Turkey' 'Swaziland' 'Botswana' 'Russian Federation'\n",
      " 'Mali' 'Ukraine' 'Ethiopia' 'Togo' 'Angola' 'Guatemala'\n",
      " 'United States Minor Outlying Islands' 'Monaco' 'Romania'\n",
      " 'Palestinian Territory' 'Suriname' 'Costa Rica' 'Lesotho' 'Brazil'\n",
      " 'India' 'Mayotte' 'Finland' 'Argentina' 'Paraguay' 'Mozambique'\n",
      " 'El Salvador' 'Netherlands Antilles' 'Jersey' 'Maldives' 'Samoa'\n",
      " 'Bosnia and Herzegovina' 'Wallis and Futuna' 'Sweden' 'Micronesia'\n",
      " 'Azerbaijan' 'Myanmar' 'Czech Republic' 'Guinea-Bissau' 'Austria'\n",
      " 'Indonesia' 'Peru' 'Norway' 'Algeria' 'Bangladesh' 'American Samoa'\n",
      " 'Ireland' 'Japan' 'Australia' 'Panama' 'United States Virgin Islands'\n",
      " 'Andorra' 'Cape Verde' 'Cocos (Keeling) Islands' 'United Arab Emirates'\n",
      " 'Burkina Faso' 'Kiribati' 'Niger' 'Slovakia (Slovak Republic)' 'Chile'\n",
      " 'Libyan Arab Jamahiriya' 'Djibouti' 'Yemen' 'Comoros' 'Western Sahara'\n",
      " 'Vanuatu' 'North Macedonia' 'Puerto Rico' 'Mauritania' 'New Caledonia'\n",
      " 'Senegal' 'Lebanon' 'Marshall Islands' 'Moldova' 'Italy' 'Morocco' 'Iraq'\n",
      " 'Canada' 'Bulgaria' 'Saint Helena' 'Macao' 'Malta' 'Montserrat'\n",
      " 'Mauritius' 'Norfolk Island' 'Liberia' 'Germany' 'Qatar' 'Saint Martin'\n",
      " 'Tanzania' 'Hong Kong' 'Rwanda' 'Congo' 'Saint Lucia' 'Belgium' 'France'\n",
      " 'Bermuda' 'Liechtenstein' 'Fiji' 'Sri Lanka' 'Tunisia' 'Cuba' 'Sudan'\n",
      " 'Reunion' 'Bhutan' 'Belarus' 'United States of America' 'Faroe Islands'\n",
      " 'Greenland' 'Cook Islands' 'Heard Island and McDonald Islands'\n",
      " 'Saint Kitts and Nevis' 'Equatorial Guinea' 'Slovenia' 'Tuvalu' 'Korea'\n",
      " 'Portugal' 'Aruba' 'Christmas Island' 'Cambodia' 'Chad' 'Gabon' 'Denmark'\n",
      " 'Saint Barthelemy' 'Ecuador' 'Sierra Leone' 'Papua New Guinea' 'Poland'\n",
      " 'Afghanistan' 'Saint Vincent and the Grenadines' 'Nigeria' 'Timor-Leste'\n",
      " 'Malaysia' 'Cameroon' 'Trinidad and Tobago' 'Montenegro'\n",
      " 'Kyrgyz Republic' 'Antigua and Barbuda' 'Israel' 'Guinea' 'Venezuela'\n",
      " 'Bolivia' 'Benin' 'Barbados' 'Guernsey' 'Central African Republic'\n",
      " 'Saudi Arabia' 'Bahamas' 'Madagascar' 'Cayman Islands' 'Uzbekistan'\n",
      " 'Northern Mariana Islands' 'Dominican Republic' 'Gibraltar'\n",
      " 'United Kingdom' 'Nicaragua' 'Bahrain' 'New Zealand' 'Jamaica' 'Croatia'\n",
      " 'Mongolia' 'Turks and Caicos Islands' 'Syrian Arab Republic' 'Albania'\n",
      " 'Nepal' 'Estonia' 'Spain' 'Colombia' 'Ghana' 'Philippines'\n",
      " \"Lao People's Democratic Republic\" 'British Virgin Islands' 'Lithuania'\n",
      " 'Switzerland']\n",
      "\n",
      "Risk Rating\n",
      "['Low' 'Medium' 'High']\n",
      "\n"
     ]
    }
   ],
   "source": [
    "# loop through columns with object data type\n",
    "for col in df.select_dtypes(include=\"object\").columns:\n",
    "        print(col)\n",
    "        print(df[col].unique(), end=\"\\n\\n\")"
   ]
  },
  {
   "cell_type": "markdown",
   "metadata": {},
   "source": [
    "Insights:\n",
    "- Gender, Eduational Level, Marital Status, Loan Purpose, Employment Status, Payment History, City, State, Country, and Risk Rating columns are categorical columns and need a data type adjustment"
   ]
  },
  {
   "cell_type": "markdown",
   "metadata": {},
   "source": [
    "# Data Cleaning & Preparation"
   ]
  },
  {
   "cell_type": "markdown",
   "metadata": {},
   "source": [
    "This section used to prepare and clean the dataset for further analysis"
   ]
  },
  {
   "cell_type": "code",
   "execution_count": 9,
   "metadata": {},
   "outputs": [],
   "source": [
    "# create a copy of dataframe to preserve the original df\n",
    "df_clean = df.copy()"
   ]
  },
  {
   "cell_type": "markdown",
   "metadata": {},
   "source": [
    "## Filter Required Columns"
   ]
  },
  {
   "cell_type": "markdown",
   "metadata": {},
   "source": [
    "As mentioned earlier, the columns that needed for further analysis are:\n",
    "- Age\n",
    "- Assets Value\n",
    "- Debt-to-Income Ratio\n",
    "- Education Level\n",
    "- Employment Status\n",
    "- Income\n",
    "- Loan Amount\n",
    "- Loan Purpose\n",
    "- Risk Rating"
   ]
  },
  {
   "cell_type": "code",
   "execution_count": 10,
   "metadata": {},
   "outputs": [
    {
     "data": {
      "text/html": [
       "<div>\n",
       "<style scoped>\n",
       "    .dataframe tbody tr th:only-of-type {\n",
       "        vertical-align: middle;\n",
       "    }\n",
       "\n",
       "    .dataframe tbody tr th {\n",
       "        vertical-align: top;\n",
       "    }\n",
       "\n",
       "    .dataframe thead th {\n",
       "        text-align: right;\n",
       "    }\n",
       "</style>\n",
       "<table border=\"1\" class=\"dataframe\">\n",
       "  <thead>\n",
       "    <tr style=\"text-align: right;\">\n",
       "      <th></th>\n",
       "      <th>Age</th>\n",
       "      <th>Assets Value</th>\n",
       "      <th>Debt-to-Income Ratio</th>\n",
       "      <th>Education Level</th>\n",
       "      <th>Employment Status</th>\n",
       "      <th>Income</th>\n",
       "      <th>Loan Amount</th>\n",
       "      <th>Loan Purpose</th>\n",
       "      <th>Risk Rating</th>\n",
       "    </tr>\n",
       "  </thead>\n",
       "  <tbody>\n",
       "    <tr>\n",
       "      <th>0</th>\n",
       "      <td>49</td>\n",
       "      <td>120228.0</td>\n",
       "      <td>0.154313</td>\n",
       "      <td>PhD</td>\n",
       "      <td>Unemployed</td>\n",
       "      <td>72799.0</td>\n",
       "      <td>45713.0</td>\n",
       "      <td>Business</td>\n",
       "      <td>Low</td>\n",
       "    </tr>\n",
       "    <tr>\n",
       "      <th>1</th>\n",
       "      <td>57</td>\n",
       "      <td>55849.0</td>\n",
       "      <td>0.148920</td>\n",
       "      <td>Bachelor's</td>\n",
       "      <td>Employed</td>\n",
       "      <td>NaN</td>\n",
       "      <td>33835.0</td>\n",
       "      <td>Auto</td>\n",
       "      <td>Medium</td>\n",
       "    </tr>\n",
       "    <tr>\n",
       "      <th>2</th>\n",
       "      <td>21</td>\n",
       "      <td>180700.0</td>\n",
       "      <td>0.362398</td>\n",
       "      <td>Master's</td>\n",
       "      <td>Employed</td>\n",
       "      <td>55687.0</td>\n",
       "      <td>36623.0</td>\n",
       "      <td>Home</td>\n",
       "      <td>Medium</td>\n",
       "    </tr>\n",
       "    <tr>\n",
       "      <th>3</th>\n",
       "      <td>59</td>\n",
       "      <td>157319.0</td>\n",
       "      <td>0.454964</td>\n",
       "      <td>Bachelor's</td>\n",
       "      <td>Unemployed</td>\n",
       "      <td>26508.0</td>\n",
       "      <td>26541.0</td>\n",
       "      <td>Personal</td>\n",
       "      <td>Medium</td>\n",
       "    </tr>\n",
       "    <tr>\n",
       "      <th>4</th>\n",
       "      <td>25</td>\n",
       "      <td>287140.0</td>\n",
       "      <td>0.143242</td>\n",
       "      <td>Bachelor's</td>\n",
       "      <td>Unemployed</td>\n",
       "      <td>49427.0</td>\n",
       "      <td>36528.0</td>\n",
       "      <td>Personal</td>\n",
       "      <td>Low</td>\n",
       "    </tr>\n",
       "  </tbody>\n",
       "</table>\n",
       "</div>"
      ],
      "text/plain": [
       "   Age  Assets Value  Debt-to-Income Ratio Education Level Employment Status  \\\n",
       "0   49      120228.0              0.154313             PhD        Unemployed   \n",
       "1   57       55849.0              0.148920      Bachelor's          Employed   \n",
       "2   21      180700.0              0.362398        Master's          Employed   \n",
       "3   59      157319.0              0.454964      Bachelor's        Unemployed   \n",
       "4   25      287140.0              0.143242      Bachelor's        Unemployed   \n",
       "\n",
       "    Income  Loan Amount Loan Purpose Risk Rating  \n",
       "0  72799.0      45713.0     Business         Low  \n",
       "1      NaN      33835.0         Auto      Medium  \n",
       "2  55687.0      36623.0         Home      Medium  \n",
       "3  26508.0      26541.0     Personal      Medium  \n",
       "4  49427.0      36528.0     Personal         Low  "
      ]
     },
     "execution_count": 10,
     "metadata": {},
     "output_type": "execute_result"
    }
   ],
   "source": [
    "# filter columns\n",
    "df_clean = df_clean[[\n",
    "        \"Age\",\n",
    "        \"Assets Value\",\n",
    "        \"Debt-to-Income Ratio\",\n",
    "        \"Education Level\",\n",
    "        \"Employment Status\",\n",
    "        \"Income\",\n",
    "        \"Loan Amount\",\n",
    "        \"Loan Purpose\",\n",
    "        \"Risk Rating\",\n",
    "]].copy()\n",
    "\n",
    "df_clean.head()"
   ]
  },
  {
   "cell_type": "markdown",
   "metadata": {},
   "source": [
    "> Successfully filter needed columns"
   ]
  },
  {
   "cell_type": "markdown",
   "metadata": {},
   "source": [
    "## Create New Columns"
   ]
  },
  {
   "cell_type": "markdown",
   "metadata": {},
   "source": [
    "In this section, I will create new columns to support my analysis:\n",
    "- Since `I need the age to be groupped` and the dataset contains numerical age, I will `create new column called Age Group`"
   ]
  },
  {
   "cell_type": "code",
   "execution_count": 11,
   "metadata": {
    "editable": true,
    "slideshow": {
     "slide_type": ""
    },
    "tags": []
   },
   "outputs": [],
   "source": [
    "# use cut() to group age\n",
    "df_clean[\"Age Group\"] = pd.cut(\n",
    "    df_clean['Age'], \n",
    "    bins=[18, 28, 38, 48, 58, 69], \n",
    "    labels=[\"18-28\", \"28-38\", \"38-48\", \"48-58\", \"58-69\"], \n",
    "    right=True,\n",
    "    include_lowest=True\n",
    ")"
   ]
  },
  {
   "cell_type": "code",
   "execution_count": 12,
   "metadata": {},
   "outputs": [
    {
     "data": {
      "text/html": [
       "<div>\n",
       "<style scoped>\n",
       "    .dataframe tbody tr th:only-of-type {\n",
       "        vertical-align: middle;\n",
       "    }\n",
       "\n",
       "    .dataframe tbody tr th {\n",
       "        vertical-align: top;\n",
       "    }\n",
       "\n",
       "    .dataframe thead th {\n",
       "        text-align: right;\n",
       "    }\n",
       "</style>\n",
       "<table border=\"1\" class=\"dataframe\">\n",
       "  <thead>\n",
       "    <tr style=\"text-align: right;\">\n",
       "      <th></th>\n",
       "      <th>Age</th>\n",
       "      <th>Assets Value</th>\n",
       "      <th>Debt-to-Income Ratio</th>\n",
       "      <th>Education Level</th>\n",
       "      <th>Employment Status</th>\n",
       "      <th>Income</th>\n",
       "      <th>Loan Amount</th>\n",
       "      <th>Loan Purpose</th>\n",
       "      <th>Risk Rating</th>\n",
       "      <th>Age Group</th>\n",
       "    </tr>\n",
       "  </thead>\n",
       "  <tbody>\n",
       "    <tr>\n",
       "      <th>0</th>\n",
       "      <td>49</td>\n",
       "      <td>120228.0</td>\n",
       "      <td>0.154313</td>\n",
       "      <td>PhD</td>\n",
       "      <td>Unemployed</td>\n",
       "      <td>72799.0</td>\n",
       "      <td>45713.0</td>\n",
       "      <td>Business</td>\n",
       "      <td>Low</td>\n",
       "      <td>48-58</td>\n",
       "    </tr>\n",
       "    <tr>\n",
       "      <th>1</th>\n",
       "      <td>57</td>\n",
       "      <td>55849.0</td>\n",
       "      <td>0.148920</td>\n",
       "      <td>Bachelor's</td>\n",
       "      <td>Employed</td>\n",
       "      <td>NaN</td>\n",
       "      <td>33835.0</td>\n",
       "      <td>Auto</td>\n",
       "      <td>Medium</td>\n",
       "      <td>48-58</td>\n",
       "    </tr>\n",
       "    <tr>\n",
       "      <th>2</th>\n",
       "      <td>21</td>\n",
       "      <td>180700.0</td>\n",
       "      <td>0.362398</td>\n",
       "      <td>Master's</td>\n",
       "      <td>Employed</td>\n",
       "      <td>55687.0</td>\n",
       "      <td>36623.0</td>\n",
       "      <td>Home</td>\n",
       "      <td>Medium</td>\n",
       "      <td>18-28</td>\n",
       "    </tr>\n",
       "    <tr>\n",
       "      <th>3</th>\n",
       "      <td>59</td>\n",
       "      <td>157319.0</td>\n",
       "      <td>0.454964</td>\n",
       "      <td>Bachelor's</td>\n",
       "      <td>Unemployed</td>\n",
       "      <td>26508.0</td>\n",
       "      <td>26541.0</td>\n",
       "      <td>Personal</td>\n",
       "      <td>Medium</td>\n",
       "      <td>58-69</td>\n",
       "    </tr>\n",
       "    <tr>\n",
       "      <th>4</th>\n",
       "      <td>25</td>\n",
       "      <td>287140.0</td>\n",
       "      <td>0.143242</td>\n",
       "      <td>Bachelor's</td>\n",
       "      <td>Unemployed</td>\n",
       "      <td>49427.0</td>\n",
       "      <td>36528.0</td>\n",
       "      <td>Personal</td>\n",
       "      <td>Low</td>\n",
       "      <td>18-28</td>\n",
       "    </tr>\n",
       "  </tbody>\n",
       "</table>\n",
       "</div>"
      ],
      "text/plain": [
       "   Age  Assets Value  Debt-to-Income Ratio Education Level Employment Status  \\\n",
       "0   49      120228.0              0.154313             PhD        Unemployed   \n",
       "1   57       55849.0              0.148920      Bachelor's          Employed   \n",
       "2   21      180700.0              0.362398        Master's          Employed   \n",
       "3   59      157319.0              0.454964      Bachelor's        Unemployed   \n",
       "4   25      287140.0              0.143242      Bachelor's        Unemployed   \n",
       "\n",
       "    Income  Loan Amount Loan Purpose Risk Rating Age Group  \n",
       "0  72799.0      45713.0     Business         Low     48-58  \n",
       "1      NaN      33835.0         Auto      Medium     48-58  \n",
       "2  55687.0      36623.0         Home      Medium     18-28  \n",
       "3  26508.0      26541.0     Personal      Medium     58-69  \n",
       "4  49427.0      36528.0     Personal         Low     18-28  "
      ]
     },
     "execution_count": 12,
     "metadata": {},
     "output_type": "execute_result"
    }
   ],
   "source": [
    "df_clean.head()"
   ]
  },
  {
   "cell_type": "code",
   "execution_count": 13,
   "metadata": {},
   "outputs": [
    {
     "data": {
      "text/plain": [
       "Age                        0\n",
       "Assets Value            2250\n",
       "Debt-to-Income Ratio       0\n",
       "Education Level            0\n",
       "Employment Status          0\n",
       "Income                  2250\n",
       "Loan Amount             2250\n",
       "Loan Purpose               0\n",
       "Risk Rating                0\n",
       "Age Group                  0\n",
       "dtype: int64"
      ]
     },
     "execution_count": 13,
     "metadata": {},
     "output_type": "execute_result"
    }
   ],
   "source": [
    "df_clean.isna().sum()"
   ]
  },
  {
   "cell_type": "markdown",
   "metadata": {},
   "source": [
    "## Adjust Column Data Type"
   ]
  },
  {
   "cell_type": "code",
   "execution_count": 14,
   "metadata": {},
   "outputs": [
    {
     "data": {
      "text/plain": [
       "Age                        int64\n",
       "Assets Value             float64\n",
       "Debt-to-Income Ratio     float64\n",
       "Education Level           object\n",
       "Employment Status         object\n",
       "Income                   float64\n",
       "Loan Amount              float64\n",
       "Loan Purpose              object\n",
       "Risk Rating               object\n",
       "Age Group               category\n",
       "dtype: object"
      ]
     },
     "execution_count": 14,
     "metadata": {},
     "output_type": "execute_result"
    }
   ],
   "source": [
    "df_clean.dtypes"
   ]
  },
  {
   "cell_type": "markdown",
   "metadata": {},
   "source": [
    "In this part, I will adjust columns' data types based on following scenarios:\n",
    "- Change to `category`\n",
    "    - Employment Status\n",
    "    - Education Level (`ordinal`)\n",
    "    - Risk Rating (`ordinal`)\n",
    "    - Loan Purpose\n",
    " \n",
    "- Change to `int`\n",
    "    - Assets Value\n",
    "    - Income\n",
    "    - Loan Amount"
   ]
  },
  {
   "cell_type": "markdown",
   "metadata": {},
   "source": [
    "### Ordinal"
   ]
  },
  {
   "cell_type": "code",
   "execution_count": 15,
   "metadata": {},
   "outputs": [],
   "source": [
    "def dTypeToOrdinal(series:str, cat_order_list:list):\n",
    "    \"\"\"\n",
    "    Adjust :series data type into ordinal category based on :cat_order_list\n",
    "\n",
    "    :series -> str\n",
    "    :cat_order_list -> list\n",
    "\n",
    "    :return series with ordinal data type\n",
    "    \"\"\"\n",
    "    \n",
    "    return pd.Categorical(\n",
    "        series, \n",
    "        categories=cat_order_list, \n",
    "        ordered=True\n",
    "    )"
   ]
  },
  {
   "cell_type": "code",
   "execution_count": 16,
   "metadata": {},
   "outputs": [],
   "source": [
    "education_level_cat_order = [\"High School\", \"Bachelor's\", \"Master's\", \"PhD\"]\n",
    "df_clean[\"Education Level\"] = dTypeToOrdinal(\n",
    "    df_clean[\"Education Level\"],\n",
    "    education_level_cat_order\n",
    ")"
   ]
  },
  {
   "cell_type": "code",
   "execution_count": 17,
   "metadata": {},
   "outputs": [
    {
     "data": {
      "text/plain": [
       "CategoricalDtype(categories=['High School', 'Bachelor's', 'Master's', 'PhD'], ordered=True, categories_dtype=object)"
      ]
     },
     "execution_count": 17,
     "metadata": {},
     "output_type": "execute_result"
    }
   ],
   "source": [
    "df_clean[\"Education Level\"].dtype"
   ]
  },
  {
   "cell_type": "code",
   "execution_count": 18,
   "metadata": {
    "editable": true,
    "slideshow": {
     "slide_type": ""
    },
    "tags": []
   },
   "outputs": [],
   "source": [
    "risk_rating_cat_order = [\"Low\", \"Medium\", \"High\"]\n",
    "df_clean[\"Risk Rating\"] = dTypeToOrdinal(\n",
    "    df_clean[\"Risk Rating\"],\n",
    "    risk_rating_cat_order\n",
    ")"
   ]
  },
  {
   "cell_type": "code",
   "execution_count": 19,
   "metadata": {},
   "outputs": [
    {
     "data": {
      "text/plain": [
       "CategoricalDtype(categories=['Low', 'Medium', 'High'], ordered=True, categories_dtype=object)"
      ]
     },
     "execution_count": 19,
     "metadata": {},
     "output_type": "execute_result"
    }
   ],
   "source": [
    "df_clean[\"Risk Rating\"].dtype"
   ]
  },
  {
   "cell_type": "markdown",
   "metadata": {},
   "source": [
    "### Nominal"
   ]
  },
  {
   "cell_type": "code",
   "execution_count": 20,
   "metadata": {
    "editable": true,
    "slideshow": {
     "slide_type": ""
    },
    "tags": []
   },
   "outputs": [],
   "source": [
    "# convert these columns into category\n",
    "df_clean[[\n",
    "    \"Employment Status\", \n",
    "    \"Loan Purpose\"\n",
    "]] = df_clean[[\n",
    "    \"Employment Status\", \n",
    "    \"Loan Purpose\"\n",
    "]].astype(\"category\")"
   ]
  },
  {
   "cell_type": "code",
   "execution_count": 21,
   "metadata": {},
   "outputs": [
    {
     "data": {
      "text/plain": [
       "Age                        int64\n",
       "Assets Value             float64\n",
       "Debt-to-Income Ratio     float64\n",
       "Education Level         category\n",
       "Employment Status       category\n",
       "Income                   float64\n",
       "Loan Amount              float64\n",
       "Loan Purpose            category\n",
       "Risk Rating             category\n",
       "Age Group               category\n",
       "dtype: object"
      ]
     },
     "execution_count": 21,
     "metadata": {},
     "output_type": "execute_result"
    }
   ],
   "source": [
    "# check columns' data types\n",
    "df_clean.dtypes"
   ]
  },
  {
   "cell_type": "markdown",
   "metadata": {},
   "source": [
    "### Int"
   ]
  },
  {
   "cell_type": "code",
   "execution_count": 22,
   "metadata": {},
   "outputs": [],
   "source": [
    "# change data types to int and ignore missing values to be converted into int\n",
    "df_clean[[\n",
    "    \"Assets Value\",\n",
    "    \"Income\",\n",
    "    \"Loan Amount\"\n",
    "]] = df_clean[[\n",
    "    \"Assets Value\",\n",
    "    \"Income\",\n",
    "    \"Loan Amount\"\n",
    "]].astype(\"int\", errors=\"ignore\")"
   ]
  },
  {
   "cell_type": "code",
   "execution_count": 23,
   "metadata": {},
   "outputs": [
    {
     "data": {
      "text/plain": [
       "Age                        int64\n",
       "Assets Value             float64\n",
       "Debt-to-Income Ratio     float64\n",
       "Education Level         category\n",
       "Employment Status       category\n",
       "Income                   float64\n",
       "Loan Amount              float64\n",
       "Loan Purpose            category\n",
       "Risk Rating             category\n",
       "Age Group               category\n",
       "dtype: object"
      ]
     },
     "execution_count": 23,
     "metadata": {},
     "output_type": "execute_result"
    }
   ],
   "source": [
    "df_clean.dtypes"
   ]
  },
  {
   "cell_type": "markdown",
   "metadata": {},
   "source": [
    "Insights:\n",
    "- Since assets value, income, and loan amout columns contain Nan, they can't be converted into int\n",
    "\n",
    "Actions:\n",
    "- **Missing values must be dropped first** before converting the data type into int"
   ]
  },
  {
   "cell_type": "markdown",
   "metadata": {},
   "source": [
    "## Missing Value Type Identification"
   ]
  },
  {
   "cell_type": "code",
   "execution_count": 24,
   "metadata": {},
   "outputs": [
    {
     "data": {
      "text/plain": [
       "Age                        0\n",
       "Assets Value            2250\n",
       "Debt-to-Income Ratio       0\n",
       "Education Level            0\n",
       "Employment Status          0\n",
       "Income                  2250\n",
       "Loan Amount             2250\n",
       "Loan Purpose               0\n",
       "Risk Rating                0\n",
       "Age Group                  0\n",
       "dtype: int64"
      ]
     },
     "execution_count": 24,
     "metadata": {},
     "output_type": "execute_result"
    }
   ],
   "source": [
    "df_clean.isna().sum()"
   ]
  },
  {
   "cell_type": "markdown",
   "metadata": {},
   "source": [
    "> In this section, I will identify whether missing values in `Assets Value`, `Income`, and `Loan Amount` columns can be categorized as MAR, MCAR, or MNAR."
   ]
  },
  {
   "cell_type": "code",
   "execution_count": 25,
   "metadata": {
    "editable": true,
    "slideshow": {
     "slide_type": ""
    },
    "tags": []
   },
   "outputs": [],
   "source": [
    "def get_freq_on_specific_cat_col(selected_col: str, df: pd.DataFrame):\n",
    "    \"\"\"\n",
    "    Get frequency of :selected_col inside :df\n",
    "\n",
    "    :selected_col as str\n",
    "    :df as Dataframe\n",
    "\n",
    "    :return series of value counts\n",
    "    \"\"\"\n",
    "    return df[selected_col].value_counts()"
   ]
  },
  {
   "cell_type": "code",
   "execution_count": 26,
   "metadata": {},
   "outputs": [],
   "source": [
    "def get_med_mean_on_specific_num_col(selected_col: str, df: pd.DataFrame):\n",
    "    \"\"\"\n",
    "    Get mean and median of :selected_col inside :df\n",
    "\n",
    "    :selected_col as str\n",
    "    :df as Dataframe\n",
    "\n",
    "    :return dataframe containing mean and med of :selected_col\n",
    "    \"\"\"\n",
    "    return pd.DataFrame(df[selected_col].describe()[[\"50%\", \"mean\"]].map(lambda val: f'{val:,.2f}'))"
   ]
  },
  {
   "cell_type": "markdown",
   "metadata": {},
   "source": [
    "### Missing Values on Assets Value"
   ]
  },
  {
   "cell_type": "code",
   "execution_count": 27,
   "metadata": {},
   "outputs": [],
   "source": [
    "# filter rows with missing values and non missing values on assets value\n",
    "missing_assets_value = df_clean.loc[df_clean[\"Assets Value\"].isna(), df_clean.columns!=\"Assets Value\"]\n",
    "non_missing_assets_value = df_clean.loc[df_clean[\"Assets Value\"].notna(), df_clean.columns!=\"Assets Value\"]"
   ]
  },
  {
   "cell_type": "markdown",
   "metadata": {},
   "source": [
    "#### Among Categorical Column"
   ]
  },
  {
   "cell_type": "code",
   "execution_count": 28,
   "metadata": {},
   "outputs": [
    {
     "name": "stdout",
     "output_type": "stream",
     "text": [
      "Missing Values Frequency of Assets on \n",
      "Education Level\n",
      "Master's       569\n",
      "Bachelor's     565\n",
      "PhD            563\n",
      "High School    553\n",
      "Name: count, dtype: int64\n",
      "\n",
      "Missing Values Frequency of Assets on \n",
      "Employment Status\n",
      "Employed         785\n",
      "Self-employed    765\n",
      "Unemployed       700\n",
      "Name: count, dtype: int64\n",
      "\n",
      "Missing Values Frequency of Assets on \n",
      "Loan Purpose\n",
      "Home        597\n",
      "Personal    558\n",
      "Auto        555\n",
      "Business    540\n",
      "Name: count, dtype: int64\n",
      "\n",
      "Missing Values Frequency of Assets on \n",
      "Risk Rating\n",
      "Low       1369\n",
      "Medium     641\n",
      "High       240\n",
      "Name: count, dtype: int64\n",
      "\n",
      "Missing Values Frequency of Assets on \n",
      "Age Group\n",
      "58-69    486\n",
      "18-28    484\n",
      "28-38    435\n",
      "48-58    432\n",
      "38-48    413\n",
      "Name: count, dtype: int64\n",
      "\n"
     ]
    }
   ],
   "source": [
    "# loop through category columns in missing_assets_value\n",
    "for col_name in missing_assets_value.select_dtypes(include=\"category\"):\n",
    "    print(\"Missing Values Frequency of Assets on \")\n",
    "    print(get_freq_on_specific_cat_col(col_name, missing_assets_value), end=\"\\n\\n\")"
   ]
  },
  {
   "cell_type": "markdown",
   "metadata": {},
   "source": [
    "Insights:\n",
    "\n",
    "As we can see that missing values frequency of `Assets Values` among all other categorical columns appear randomly. In other words, **the missing values are missing completely at random**"
   ]
  },
  {
   "cell_type": "markdown",
   "metadata": {},
   "source": [
    "#### Among Numerical Column"
   ]
  },
  {
   "cell_type": "markdown",
   "metadata": {},
   "source": [
    "To identify missing values type among all numerical columns, I will compare median and mean of all numericals columns of missing and non missing values in asset value column"
   ]
  },
  {
   "cell_type": "code",
   "execution_count": 29,
   "metadata": {},
   "outputs": [
    {
     "name": "stdout",
     "output_type": "stream",
     "text": [
      "Med & Mean: \n",
      "Missing Values on Asset Values: \n",
      "        Age\n",
      "50%   43.00\n",
      "mean  43.40\n",
      "Non-missing values on Asset Values: \n",
      "        Age\n",
      "50%   43.00\n",
      "mean  43.46\n",
      "\n",
      "Med & Mean: \n",
      "Missing Values on Asset Values: \n",
      "     Debt-to-Income Ratio\n",
      "50%                  0.35\n",
      "mean                 0.35\n",
      "Non-missing values on Asset Values: \n",
      "     Debt-to-Income Ratio\n",
      "50%                  0.35\n",
      "mean                 0.35\n",
      "\n",
      "Med & Mean: \n",
      "Missing Values on Asset Values: \n",
      "         Income\n",
      "50%   69,703.00\n",
      "mean  70,007.50\n",
      "Non-missing values on Asset Values: \n",
      "         Income\n",
      "50%   69,830.00\n",
      "mean  69,920.25\n",
      "\n",
      "Med & Mean: \n",
      "Missing Values on Asset Values: \n",
      "     Loan Amount\n",
      "50%    27,734.50\n",
      "mean   27,411.13\n",
      "Non-missing values on Asset Values: \n",
      "     Loan Amount\n",
      "50%    27,500.00\n",
      "mean   27,456.93\n",
      "\n"
     ]
    }
   ],
   "source": [
    "# make sure all columns in missing_assets_value and non_missing_assets_value are the same\n",
    "if (set(missing_assets_value.columns) == set(non_missing_assets_value.columns)):\n",
    "    # loop through numerical columns\n",
    "    for col_name in missing_assets_value.select_dtypes(include=[\"int\", \"float\"]):\n",
    "        print(\"Med & Mean: \")\n",
    "        print(\"Missing Values on Asset Values: \")\n",
    "        print(get_med_mean_on_specific_num_col(col_name, missing_assets_value))\n",
    "        print(\"Non-missing values on Asset Values: \")\n",
    "        print(get_med_mean_on_specific_num_col(col_name, non_missing_assets_value), end=\"\\n\\n\")"
   ]
  },
  {
   "cell_type": "markdown",
   "metadata": {},
   "source": [
    "Insights:\n",
    "\n",
    "These values are inspected for **missing values and non-missing values** in `Asesst values` column\n",
    "\n",
    "- Median of Age for missing values and non-missing values are both 43.\n",
    "- Mean of Age for missing values and non-missing values are 43.40 and 43.46 respectively.\n",
    "\n",
    "- Median and mean of Debt-to-Income ratio for missing values and non-missing values are all 0.35.\n",
    "\n",
    "- Median of Income for missing values and non-missing values are \\\\$69,703.00 and \\\\$69,830.00 respectively\n",
    "- Mean of Income for missing values and non-missing values are \\\\$70,007.50 and \\\\$69,920.25 respectively.\n",
    "\n",
    "- Median of Loan Amount for missing values and non-missing values are \\\\$27,734.50 and \\\\$27,500.00 respectively\n",
    "- Mean of Loan Amount for missing values and non-missing values are \\\\$27,411.13 and \\\\$27,456.93 respectively.\n",
    "\n",
    "\n",
    "> Since the numerical column distribution in data with missing values and without missing values on assets value are very simmilar. I can conclude that the missing values is MCAR and safe to drop.\n",
    "\n",
    "Actions:\n",
    "- Drop rows with missing values on loan amount column"
   ]
  },
  {
   "cell_type": "markdown",
   "metadata": {},
   "source": [
    "## Missing Values on **Income**"
   ]
  },
  {
   "cell_type": "code",
   "execution_count": 30,
   "metadata": {},
   "outputs": [],
   "source": [
    "# filter rows with missing values and non missing values on income\n",
    "missing_income = df_clean.loc[df_clean[\"Income\"].isna(), df_clean.columns!=\"Income\"]\n",
    "non_missing_income = df_clean.loc[df_clean[\"Income\"].notna(), df_clean.columns!=\"Income\"]"
   ]
  },
  {
   "cell_type": "markdown",
   "metadata": {},
   "source": [
    "### Among Categorical Columns"
   ]
  },
  {
   "cell_type": "code",
   "execution_count": 35,
   "metadata": {
    "scrolled": true
   },
   "outputs": [
    {
     "name": "stdout",
     "output_type": "stream",
     "text": [
      "Missing Values Frequency of Income on \n",
      "Education Level\n",
      "PhD            614\n",
      "Bachelor's     572\n",
      "High School    553\n",
      "Master's       511\n",
      "Name: count, dtype: int64\n",
      "\n",
      "Missing Values Frequency of Income on \n",
      "Employment Status\n",
      "Unemployed       791\n",
      "Employed         749\n",
      "Self-employed    710\n",
      "Name: count, dtype: int64\n",
      "\n",
      "Missing Values Frequency of Income on \n",
      "Loan Purpose\n",
      "Auto        580\n",
      "Personal    574\n",
      "Home        569\n",
      "Business    527\n",
      "Name: count, dtype: int64\n",
      "\n",
      "Missing Values Frequency of Income on \n",
      "Risk Rating\n",
      "Low       1333\n",
      "Medium     677\n",
      "High       240\n",
      "Name: count, dtype: int64\n",
      "\n",
      "Missing Values Frequency of Income on \n",
      "Age Group\n",
      "58-69    506\n",
      "18-28    464\n",
      "38-48    431\n",
      "28-38    425\n",
      "48-58    424\n",
      "Name: count, dtype: int64\n",
      "\n"
     ]
    }
   ],
   "source": [
    "# loop through category columns in missing_assets_value\n",
    "for col_name in missing_income.select_dtypes(include=\"category\"):\n",
    "    print(\"Missing Values Frequency of Income on \")\n",
    "    print(get_freq_on_specific_cat_col(col_name, missing_income), end=\"\\n\\n\")"
   ]
  },
  {
   "cell_type": "markdown",
   "metadata": {},
   "source": [
    "Insights:\n",
    "\n",
    "As we can see that missing values frequency of `Income` among all other categorical columns appear randomly. In other words, **the missing values are missing completely at random**"
   ]
  },
  {
   "cell_type": "markdown",
   "metadata": {},
   "source": [
    "### Among Numerical Columns"
   ]
  },
  {
   "cell_type": "code",
   "execution_count": 39,
   "metadata": {},
   "outputs": [
    {
     "name": "stdout",
     "output_type": "stream",
     "text": [
      "Med & Mean: \n",
      "Missing Values on Income: \n",
      "        Age\n",
      "50%   44.00\n",
      "mean  43.89\n",
      "\n",
      "Non-missing values on Income: \n",
      "        Age\n",
      "50%   43.00\n",
      "mean  43.37\n",
      "==============================\n",
      "\n",
      "Med & Mean: \n",
      "Missing Values on Income: \n",
      "     Assets Value\n",
      "50%    157,070.00\n",
      "mean   159,623.89\n",
      "\n",
      "Non-missing values on Income: \n",
      "     Assets Value\n",
      "50%    159,925.00\n",
      "mean   159,762.36\n",
      "==============================\n",
      "\n",
      "Med & Mean: \n",
      "Missing Values on Income: \n",
      "     Debt-to-Income Ratio\n",
      "50%                  0.35\n",
      "mean                 0.35\n",
      "\n",
      "Non-missing values on Income: \n",
      "     Debt-to-Income Ratio\n",
      "50%                  0.35\n",
      "mean                 0.35\n",
      "==============================\n",
      "\n",
      "Med & Mean: \n",
      "Missing Values on Income: \n",
      "     Loan Amount\n",
      "50%    27,866.00\n",
      "mean   27,466.52\n",
      "\n",
      "Non-missing values on Income: \n",
      "     Loan Amount\n",
      "50%    27,499.00\n",
      "mean   27,447.10\n",
      "==============================\n",
      "\n"
     ]
    }
   ],
   "source": [
    "# make sure all columns in missing_assets_value and non_missing_assets_value are the same\n",
    "if (set(missing_income.columns) == set(non_missing_income.columns)):\n",
    "    for col_name in missing_income.select_dtypes(include=[\"int\", \"float\"]):\n",
    "        print(\"Med & Mean: \")\n",
    "        print(\"Missing Values on Income: \")\n",
    "        print(get_med_mean_on_specific_num_col(col_name, missing_income), end=\"\\n\\n\")\n",
    "        print(\"Non-missing values on Income: \")\n",
    "        print(get_med_mean_on_specific_num_col(col_name, non_missing_income))\n",
    "        print(\"=\"*30, end=\"\\n\\n\")"
   ]
  },
  {
   "cell_type": "markdown",
   "metadata": {},
   "source": [
    "Insights:\n",
    "\n",
    "These values are inspected for **missing values and non-missing values** in `Income` column\n",
    "\n",
    "- Median of Age for missing values and non-missing values are 44 and 43 respectively.\n",
    "- Mean of Age for missing values and non-missing values are 43.89 and 43.37 respectively.\n",
    "\n",
    "- Median of Income for missing values and non-missing values are \\\\$157,070 and \\\\$159,925 respectively.\n",
    "- Mean of Income for missing values and non-missing values are \\\\$159,623.89 and \\\\$159,762.36 respectively.\n",
    "\n",
    "- Median and mean of Debt-to-Income ratio for missing values and non-missing values are all 0.35.\n",
    "\n",
    "- Median of Loan Amount for missing values and non-missing values are \\\\$27,866 and \\\\$27,499 respectively\n",
    "- Mean of Loan Amount for missing values and non-missing values are \\\\$27,466 and \\\\$27,447 respectively.\n",
    "\n",
    "\n",
    "> Since the numerical column distribution in data with missing values and without missing values on assets value are very simmilar. **I conclude that the missing values is MCAR and safe to drop.**\n",
    "\n",
    "Actions:\n",
    "- Drop rows with missing values on income column"
   ]
  },
  {
   "cell_type": "markdown",
   "metadata": {},
   "source": [
    "## Missing Values on Loan Amount"
   ]
  },
  {
   "cell_type": "code",
   "execution_count": 32,
   "metadata": {
    "editable": true,
    "slideshow": {
     "slide_type": ""
    },
    "tags": []
   },
   "outputs": [],
   "source": [
    "# filter rows with missing values and non missing values on loan_amount\n",
    "missing_loan_amount = df_clean.loc[df_clean[\"Loan Amount\"].isna(), df_clean.columns!=\"Loan Amount\"]\n",
    "non_missing_loan_amount = df_clean.loc[df_clean[\"Loan Amount\"].notna(), df_clean.columns!=\"Loan Amount\"]"
   ]
  },
  {
   "cell_type": "markdown",
   "metadata": {},
   "source": [
    "#### Among Categorical Column"
   ]
  },
  {
   "cell_type": "code",
   "execution_count": 40,
   "metadata": {},
   "outputs": [
    {
     "name": "stdout",
     "output_type": "stream",
     "text": [
      "Missing Values Frequency of Loan Amount on\n",
      "Education Level\n",
      "High School    606\n",
      "Bachelor's     568\n",
      "Master's       557\n",
      "PhD            519\n",
      "Name: count, dtype: int64\n",
      "\n",
      "Missing Values Frequency of Loan Amount on\n",
      "Employment Status\n",
      "Employed         760\n",
      "Self-employed    753\n",
      "Unemployed       737\n",
      "Name: count, dtype: int64\n",
      "\n",
      "Missing Values Frequency of Loan Amount on\n",
      "Loan Purpose\n",
      "Business    581\n",
      "Auto        568\n",
      "Personal    564\n",
      "Home        537\n",
      "Name: count, dtype: int64\n",
      "\n",
      "Missing Values Frequency of Loan Amount on\n",
      "Risk Rating\n",
      "Low       1367\n",
      "Medium     650\n",
      "High       233\n",
      "Name: count, dtype: int64\n",
      "\n",
      "Missing Values Frequency of Loan Amount on\n",
      "Age Group\n",
      "18-28    529\n",
      "58-69    495\n",
      "28-38    422\n",
      "38-48    420\n",
      "48-58    384\n",
      "Name: count, dtype: int64\n",
      "\n"
     ]
    }
   ],
   "source": [
    "# loop through category columns in missing_loan_column\n",
    "for col_name in missing_loan_amount.select_dtypes(include=\"category\"):\n",
    "    print(\"Missing Values Frequency of Loan Amount on\")\n",
    "    print(get_freq_on_specific_cat_col(col_name, missing_loan_amount), end=\"\\n\\n\")"
   ]
  },
  {
   "cell_type": "markdown",
   "metadata": {},
   "source": [
    "Insights:\n",
    "\n",
    "As we can see that missing values frequency of `Loan Amount` among all other categorical columns appear randomly. In other words I can assume that the missing values are missing completely at random"
   ]
  },
  {
   "cell_type": "markdown",
   "metadata": {},
   "source": [
    "#### Among Numerical Column"
   ]
  },
  {
   "cell_type": "markdown",
   "metadata": {},
   "source": [
    "##### Missing Loan Amount only"
   ]
  },
  {
   "cell_type": "code",
   "execution_count": 41,
   "metadata": {},
   "outputs": [
    {
     "name": "stdout",
     "output_type": "stream",
     "text": [
      "Med & Mean: \n",
      "Missing Values on Loan Amount: \n",
      "        Age\n",
      "50%   43.00\n",
      "mean  43.05\n",
      "\n",
      "Non-missing values on Loan Amount: \n",
      "        Age\n",
      "50%   43.00\n",
      "mean  43.52\n",
      "==============================\n",
      "\n",
      "Med & Mean: \n",
      "Missing Values on Loan Amount: \n",
      "     Assets Value\n",
      "50%    157,812.00\n",
      "mean   157,898.22\n",
      "\n",
      "Non-missing values on Loan Amount: \n",
      "     Assets Value\n",
      "50%    159,486.50\n",
      "mean   160,069.49\n",
      "==============================\n",
      "\n",
      "Med & Mean: \n",
      "Missing Values on Loan Amount: \n",
      "     Debt-to-Income Ratio\n",
      "50%                  0.34\n",
      "mean                 0.35\n",
      "\n",
      "Non-missing values on Loan Amount: \n",
      "     Debt-to-Income Ratio\n",
      "50%                  0.35\n",
      "mean                 0.35\n",
      "==============================\n",
      "\n",
      "Med & Mean: \n",
      "Missing Values on Loan Amount: \n",
      "         Income\n",
      "50%   69,282.00\n",
      "mean  70,131.99\n",
      "\n",
      "Non-missing values on Loan Amount: \n",
      "         Income\n",
      "50%   69,862.00\n",
      "mean  69,898.34\n",
      "==============================\n",
      "\n"
     ]
    }
   ],
   "source": [
    "# make sure all columns in missing_income and non_missing_income are the same\n",
    "if (set(missing_loan_amount.columns) == set(non_missing_loan_amount.columns)):\n",
    "    for col_name in missing_loan_amount.select_dtypes(include=[\"int\", \"float\"]):\n",
    "        print(\"Med & Mean: \")\n",
    "        \n",
    "        print(\"Missing Values on Loan Amount: \")\n",
    "        print(get_med_mean_on_specific_num_col(col_name, missing_loan_amount), end=\"\\n\\n\")\n",
    "        \n",
    "        print(\"Non-missing values on Loan Amount: \")\n",
    "        print(get_med_mean_on_specific_num_col(col_name, non_missing_loan_amount))\n",
    "        \n",
    "        print(\"=\"*30, end=\"\\n\\n\")"
   ]
  },
  {
   "cell_type": "markdown",
   "metadata": {},
   "source": [
    "Insights:\n",
    "\n",
    "- These values are inspected for **missing values and non-missing values** in `Loan Amount` column\n",
    "\n",
    "- Median of Age for missing values and non-missing values are both 43.\n",
    "- Mean of Age for missing values and non-missing values in loan amount are 43.03 and 43.52 respectively\n",
    "\n",
    "- Median of Assets Value for missing values and non-missing values are \\\\$157,812.00 and \\\\$159,486.50 respectively\n",
    "- Mean of Assets Value for missing values and non-missing values are \\\\$157,898.22 and \\\\$160,069.49 respectively\n",
    "\n",
    "- Median of Debt-to-Income ratio for missing values and non-missing values are 0.34 and 0.35 respectively\n",
    "- Mean of Debt-to-Income ratio for missing values and non-missing values in loan amount are both 0.35\n",
    "\n",
    "- Median of Income for missing values and non-missing values in income are \\\\$69,282 and \\\\$69,862 respectively\n",
    "- Mean of Income for missing values and non-missing values in income are \\\\$70,131 and \\\\$69,898 respectively\n",
    "\n",
    "> Since the numerical column distribution in data with missing values and without missing values on income are very simmilar. **I conclude that the missing values is MCAR and safe to drop.**\n",
    "\n",
    "Actions:\n",
    "- Drop rows with missing values on income column"
   ]
  },
  {
   "cell_type": "markdown",
   "metadata": {},
   "source": [
    "## Dropping Missing Values"
   ]
  },
  {
   "cell_type": "markdown",
   "metadata": {},
   "source": [
    "Since all missing values in `Assets Value`, `Income`, `Loan Amount` are MCAR. I can delete all rows with missing values safely"
   ]
  },
  {
   "cell_type": "code",
   "execution_count": 42,
   "metadata": {},
   "outputs": [],
   "source": [
    "# drop any rows with missing values\n",
    "df_clean = df_clean.dropna()"
   ]
  },
  {
   "cell_type": "code",
   "execution_count": 43,
   "metadata": {},
   "outputs": [
    {
     "data": {
      "text/plain": [
       "Age                     0\n",
       "Assets Value            0\n",
       "Debt-to-Income Ratio    0\n",
       "Education Level         0\n",
       "Employment Status       0\n",
       "Income                  0\n",
       "Loan Amount             0\n",
       "Loan Purpose            0\n",
       "Risk Rating             0\n",
       "Age Group               0\n",
       "dtype: int64"
      ]
     },
     "execution_count": 43,
     "metadata": {},
     "output_type": "execute_result"
    }
   ],
   "source": [
    "# missing values inspection for each column\n",
    "df_clean.isna().sum()"
   ]
  },
  {
   "cell_type": "markdown",
   "metadata": {},
   "source": [
    "> All missing values are droped successfully"
   ]
  },
  {
   "cell_type": "markdown",
   "metadata": {},
   "source": [
    "# Analysis"
   ]
  },
  {
   "cell_type": "markdown",
   "metadata": {},
   "source": [
    "In this sections I will create analysis to answer my questions thruogh visualizations.\n",
    "\n",
    "1. What's the `sum of loan based on education level and risk rating`\n",
    "\n",
    "2. What's the `average of debt-to-income ratio grouped by employment status and age group`\n",
    "\n",
    "3. What's the `average assets based on their educational level and risk rating`\n",
    "\n",
    "4. What's the `proportion of high financial risk rating by age group`\n",
    "\n",
    "5. What's the `proportion of loan purposes by high financial risk rating`\n",
    "\n",
    "6. What's the `distribution of debt-to-income ratio by financial risk rating`\n",
    "\n",
    "7. How are the education level and risk rating correlated?"
   ]
  },
  {
   "cell_type": "markdown",
   "metadata": {
    "editable": true,
    "slideshow": {
     "slide_type": ""
    },
    "tags": []
   },
   "source": [
    "## SUM of loan based on education level and risk rating"
   ]
  },
  {
   "cell_type": "code",
   "execution_count": 44,
   "metadata": {},
   "outputs": [
    {
     "data": {
      "text/html": [
       "<div>\n",
       "<style scoped>\n",
       "    .dataframe tbody tr th:only-of-type {\n",
       "        vertical-align: middle;\n",
       "    }\n",
       "\n",
       "    .dataframe tbody tr th {\n",
       "        vertical-align: top;\n",
       "    }\n",
       "\n",
       "    .dataframe thead th {\n",
       "        text-align: right;\n",
       "    }\n",
       "</style>\n",
       "<table border=\"1\" class=\"dataframe\">\n",
       "  <thead>\n",
       "    <tr style=\"text-align: right;\">\n",
       "      <th></th>\n",
       "      <th></th>\n",
       "      <th>Loan Amount</th>\n",
       "    </tr>\n",
       "    <tr>\n",
       "      <th>Education Level</th>\n",
       "      <th>Risk Rating</th>\n",
       "      <th></th>\n",
       "    </tr>\n",
       "  </thead>\n",
       "  <tbody>\n",
       "    <tr>\n",
       "      <th rowspan=\"3\" valign=\"top\">High School</th>\n",
       "      <th>Low</th>\n",
       "      <td>37264028.0</td>\n",
       "    </tr>\n",
       "    <tr>\n",
       "      <th>Medium</th>\n",
       "      <td>19695445.0</td>\n",
       "    </tr>\n",
       "    <tr>\n",
       "      <th>High</th>\n",
       "      <td>6464894.0</td>\n",
       "    </tr>\n",
       "    <tr>\n",
       "      <th rowspan=\"3\" valign=\"top\">Bachelor's</th>\n",
       "      <th>Low</th>\n",
       "      <td>39566801.0</td>\n",
       "    </tr>\n",
       "    <tr>\n",
       "      <th>Medium</th>\n",
       "      <td>18905483.0</td>\n",
       "    </tr>\n",
       "    <tr>\n",
       "      <th>High</th>\n",
       "      <td>5498497.0</td>\n",
       "    </tr>\n",
       "    <tr>\n",
       "      <th rowspan=\"3\" valign=\"top\">Master's</th>\n",
       "      <th>Low</th>\n",
       "      <td>37140415.0</td>\n",
       "    </tr>\n",
       "    <tr>\n",
       "      <th>Medium</th>\n",
       "      <td>18971646.0</td>\n",
       "    </tr>\n",
       "    <tr>\n",
       "      <th>High</th>\n",
       "      <td>6145424.0</td>\n",
       "    </tr>\n",
       "    <tr>\n",
       "      <th rowspan=\"3\" valign=\"top\">PhD</th>\n",
       "      <th>Low</th>\n",
       "      <td>36461303.0</td>\n",
       "    </tr>\n",
       "    <tr>\n",
       "      <th>Medium</th>\n",
       "      <td>19460231.0</td>\n",
       "    </tr>\n",
       "    <tr>\n",
       "      <th>High</th>\n",
       "      <td>6954878.0</td>\n",
       "    </tr>\n",
       "  </tbody>\n",
       "</table>\n",
       "</div>"
      ],
      "text/plain": [
       "                             Loan Amount\n",
       "Education Level Risk Rating             \n",
       "High School     Low           37264028.0\n",
       "                Medium        19695445.0\n",
       "                High           6464894.0\n",
       "Bachelor's      Low           39566801.0\n",
       "                Medium        18905483.0\n",
       "                High           5498497.0\n",
       "Master's        Low           37140415.0\n",
       "                Medium        18971646.0\n",
       "                High           6145424.0\n",
       "PhD             Low           36461303.0\n",
       "                Medium        19460231.0\n",
       "                High           6954878.0"
      ]
     },
     "execution_count": 44,
     "metadata": {},
     "output_type": "execute_result"
    }
   ],
   "source": [
    "# find sum of loan amount by education level and risk rating\n",
    "df_clean.groupby([\"Education Level\", \"Risk Rating\"], observed=True).agg({\"Loan Amount\": \"sum\"})"
   ]
  },
  {
   "cell_type": "code",
   "execution_count": 46,
   "metadata": {},
   "outputs": [
    {
     "data": {
      "image/png": "[encoded data removed]",
      "text/plain": [
       "<Figure size 640x480 with 1 Axes>"
      ]
     },
     "metadata": {},
     "output_type": "display_data"
    }
   ],
   "source": [
    "# barplot with title and custom y label and legend\n",
    "sns.barplot(\n",
    "    df_clean, \n",
    "    x=\"Loan Amount\",\n",
    "    y=\"Education Level\", \n",
    "    hue=\"Risk Rating\",\n",
    "    estimator=\"sum\",\n",
    "    errorbar=None\n",
    ")\n",
    "\n",
    "plt.title(\"SUM of Loan Amount by Education Level and Financial Risk Rating\")\n",
    "plt.ylabel(\"SUM of Loan Amount\")\n",
    "plt.legend(loc=\"lower right\", title=\"Financial Risk Rating\")\n",
    "plt.show()"
   ]
  },
  {
   "cell_type": "markdown",
   "metadata": {},
   "source": [
    "Insights:   \n",
    "- **Among all Education Levels, highest loan in total are considered as low financial risk rating.**\n",
    "- Lowest sum of loan in total, precisely having high financial risk rating.\n",
    "- This might be because **people with high amount of loan able to manage their financial and generate more revenue with it.**"
   ]
  },
  {
   "cell_type": "markdown",
   "metadata": {},
   "source": [
    "## AVG of Debt-to-Income Ratio by Employment Status and Age Group"
   ]
  },
  {
   "cell_type": "code",
   "execution_count": null,
   "metadata": {},
   "outputs": [],
   "source": [
    "# find debt to income ration by employment status and age group\n",
    "df_clean.groupby([\"Employment Status\", \"Age Group\"], observed=True).agg({\"Debt-to-Income Ratio\": \"mean\"})"
   ]
  },
  {
   "cell_type": "code",
   "execution_count": null,
   "metadata": {},
   "outputs": [],
   "source": [
    "# barplot with title and custom y label and legend\n",
    "sns.barplot(\n",
    "    df_clean, \n",
    "    x=\"Employment Status\", \n",
    "    y=\"Debt-to-Income Ratio\",\n",
    "    hue=\"Age Group\",\n",
    "    estimator=\"mean\",\n",
    "    errorbar=None\n",
    ")\n",
    "\n",
    "plt.title(\"AVG of Debt-to-Income Ratio by Employment Status and Age Group\")\n",
    "plt.ylabel(\"AVG of Debt-to-Income Ratio\")\n",
    "plt.legend(loc=\"lower right\", title=\"Age Group\")\n",
    "plt.show()"
   ]
  },
  {
   "cell_type": "markdown",
   "metadata": {},
   "source": [
    "Insights:   \n",
    "- Average of Debt-to-Income ratio (DTI) for each employment status and grouped by age group seem similar.\n",
    "- Age group of 18-28 for self-employed are having the highest DTI on the group, but not significanly compared to others\n",
    "- Employed people within range of age 48-58 are having highest DTI, also not significanly compared to others\n",
    "- Based on the visualization **I conclude that Age and Employment Status don't have any correlation to DTI.**"
   ]
  },
  {
   "cell_type": "code",
   "execution_count": null,
   "metadata": {},
   "outputs": [],
   "source": [
    "df_clean.columns"
   ]
  },
  {
   "cell_type": "markdown",
   "metadata": {},
   "source": [
    "## AVG of assets based on their educational level and risk rating"
   ]
  },
  {
   "cell_type": "code",
   "execution_count": null,
   "metadata": {},
   "outputs": [],
   "source": [
    "# find sum of assets value by education level and risk rating\n",
    "df_clean.groupby([\"Education Level\", \"Risk Rating\"], observed=True).agg({\"Assets Value\": \"sum\"})"
   ]
  },
  {
   "cell_type": "code",
   "execution_count": null,
   "metadata": {},
   "outputs": [],
   "source": [
    "# show barplot with label and custom ylabel & legend\n",
    "sns.barplot(\n",
    "    df_clean,\n",
    "    y=\"Education Level\",\n",
    "    x=\"Assets Value\",\n",
    "    orient=\"h\",\n",
    "    hue=\"Risk Rating\",\n",
    "    estimator=\"sum\",\n",
    "    errorbar=None\n",
    ")\n",
    "\n",
    "plt.title(\"SUM of Assets by Education Level and Financial Risk Rating\")\n",
    "plt.ylabel(\"SUM of Assets\")\n",
    "plt.legend(loc=\"upper right\", title=\"Financial Risk Rating\")\n",
    "plt.show()"
   ]
  },
  {
   "cell_type": "markdown",
   "metadata": {},
   "source": [
    "Insights:\n",
    "- The graph shown that people with highet assets are having low financial risk rating.\n",
    "- People with lowest assets are having high financial risk rating."
   ]
  },
  {
   "cell_type": "markdown",
   "metadata": {},
   "source": [
    "## Proportion of High Financial Risk Rating by Age Group"
   ]
  },
  {
   "cell_type": "code",
   "execution_count": null,
   "metadata": {},
   "outputs": [],
   "source": [
    "# filter high risk rating only and get age group column\n",
    "prop_high_fin_risk_by_age_group = df_clean.loc[df_clean[\"Risk Rating\"]==\"High\", \"Age Group\"].value_counts(normalize=True)\n",
    "prop_high_fin_risk_by_age_group"
   ]
  },
  {
   "cell_type": "code",
   "execution_count": null,
   "metadata": {},
   "outputs": [],
   "source": [
    "# show pie plot with title\n",
    "plt.pie(prop_high_fin_risk_by_age_group, labels=prop_high_fin_risk_by_age_group.keys(), autopct='%.1f%%')\n",
    "\n",
    "plt.title(\"Proportion of High Financial Risk Rating by Age Group\")\n",
    "plt.show()"
   ]
  },
  {
   "cell_type": "markdown",
   "metadata": {},
   "source": [
    "Insights: \n",
    "- Age group 58-69 is the highest proportion of high financial risk rating by 22.64%.\n",
    "- The proportion of high financial risk rating among all age group is very similar.\n",
    "- In conclution, the graph shown that **age doesn't have correlation with financial risk, since the proportions are almost identical**"
   ]
  },
  {
   "cell_type": "markdown",
   "metadata": {},
   "source": [
    "## Proportion of Loan Purposes by High Financial Risk Rating"
   ]
  },
  {
   "cell_type": "code",
   "execution_count": null,
   "metadata": {},
   "outputs": [],
   "source": [
    "# filter high risk rating only and ge loan purpose column\n",
    "prop_loan_purpose_by_high_fin_rating = df_clean.loc[df_clean[\"Risk Rating\"]==\"High\", \"Loan Purpose\"].value_counts(normalize=True)\n",
    "prop_loan_purpose_by_high_fin_rating"
   ]
  },
  {
   "cell_type": "code",
   "execution_count": null,
   "metadata": {},
   "outputs": [],
   "source": [
    "# show pie plot with title\n",
    "plt.pie(\n",
    "    prop_loan_purpose_by_high_fin_rating, \n",
    "    labels=prop_loan_purpose_by_high_fin_rating.keys(), \n",
    "    autopct='%.1f%%'\n",
    ")\n",
    "\n",
    "plt.title(\"Proportion of Loan Purposes by High Financial Risk Rating\")\n",
    "plt.show()"
   ]
  },
  {
   "cell_type": "markdown",
   "metadata": {},
   "source": [
    "Insights: \n",
    "- `Auto is the highest loan purpose from high financial risk rating` followed by personal and home.\n",
    "- Proportion of loan purposes with high financial risk rating are almost equal.\n",
    "- `All loan purposes have almost equal impact on High Financial Risk Rating`\n",
    "- Hence, I conclude that **there's no assosiation between these variables**"
   ]
  },
  {
   "cell_type": "markdown",
   "metadata": {},
   "source": [
    "## Debt-to-Income Ratio Distribution among Education Level"
   ]
  },
  {
   "cell_type": "code",
   "execution_count": null,
   "metadata": {},
   "outputs": [],
   "source": [
    "sns.boxplot(\n",
    "    df_clean, \n",
    "    x=\"Employment Status\",\n",
    "    y=\"Debt-to-Income Ratio\"\n",
    ")"
   ]
  },
  {
   "cell_type": "markdown",
   "metadata": {},
   "source": [
    "Insights:\n",
    "- DTI distributions among Employment Status are also exactly the same.\n",
    "- Thus, **Employment Status and DTI don't have any assosiations**"
   ]
  },
  {
   "cell_type": "markdown",
   "metadata": {},
   "source": [
    "## Debt-to-income Ratio Distribution among Financial Risk Rating"
   ]
  },
  {
   "cell_type": "code",
   "execution_count": null,
   "metadata": {},
   "outputs": [],
   "source": [
    "# show boxplot of debt-to-income ratio on each risk rating with title\n",
    "sns.boxplot(data=df_clean, x=\"Risk Rating\", y=\"Debt-to-Income Ratio\")\n",
    "plt.title(\"Distribution of Debt-to-Income Ratio among Financial Risk Rating\")\n",
    "plt.show()"
   ]
  },
  {
   "cell_type": "markdown",
   "metadata": {},
   "source": [
    "Insights:\n",
    "- Data distribution of Debt-to-Income ratio among all Risk Rating categories are equal\n",
    "- Hence, **there is no association between the Debt-to-Income ratio and Risk Rating categories**"
   ]
  },
  {
   "cell_type": "markdown",
   "metadata": {},
   "source": [
    "## Debt-to-Income Ratio Distribution among Employment Status"
   ]
  },
  {
   "cell_type": "code",
   "execution_count": null,
   "metadata": {},
   "outputs": [],
   "source": [
    "sns.boxplot(\n",
    "    df_clean, \n",
    "    x=\"Education Level\",\n",
    "    y=\"Debt-to-Income Ratio\"\n",
    ")"
   ]
  },
  {
   "cell_type": "markdown",
   "metadata": {},
   "source": [
    "Insights:\n",
    "- DTI distributions among education level are exactly the same\n",
    "- Therefore, Education Level doesn't have assosiations with DTI"
   ]
  },
  {
   "cell_type": "markdown",
   "metadata": {},
   "source": [
    "## srtsrt"
   ]
  },
  {
   "cell_type": "code",
   "execution_count": null,
   "metadata": {},
   "outputs": [],
   "source": [
    "df_clean.columns"
   ]
  },
  {
   "cell_type": "code",
   "execution_count": null,
   "metadata": {},
   "outputs": [],
   "source": [
    "# new columns to contain loan to income ratio range values: 0-1\n",
    "df_clean[\"Loan-to-Income Ratio\"] = df_clean[\"Loan Amount\"]/df_clean[\"Income\"]"
   ]
  },
  {
   "cell_type": "code",
   "execution_count": null,
   "metadata": {},
   "outputs": [],
   "source": [
    "df_clean[[\"Income\", \"Loan Amount\", \"Loan-to-Income Ratio\"]]"
   ]
  },
  {
   "cell_type": "code",
   "execution_count": null,
   "metadata": {},
   "outputs": [],
   "source": [
    "# show barplot with label and custom ylabel & legend\n",
    "(\n",
    "    so.Plot(\n",
    "        df_clean,\n",
    "        y=\"Education Level\",\n",
    "        x=\"Assets Value\",\n",
    "        color=\"Risk Rating\",\n",
    "    ).add(so.Bar(), so.Count(), so.Stack())\n",
    ")"
   ]
  },
  {
   "cell_type": "markdown",
   "metadata": {},
   "source": [
    "## How are the education level and risk rating correlated?"
   ]
  },
  {
   "cell_type": "markdown",
   "metadata": {},
   "source": [
    "I will answer the question by conducting hypothesis testing stated below.\n",
    "- H0: There's no correlation between education level and risk rating (The variables are independent)\n",
    "- H1: Education level and risk rating are correlated to each other (The variables are not independent)"
   ]
  },
  {
   "cell_type": "code",
   "execution_count": null,
   "metadata": {},
   "outputs": [],
   "source": [
    "# crosstab on education level and risk rating\n",
    "education_level_vs_risk_rating = pd.crosstab(df_clean[\"Education Level\"], df_clean[\"Risk Rating\"])\n",
    "education_level_vs_risk_rating"
   ]
  },
  {
   "cell_type": "code",
   "execution_count": null,
   "metadata": {},
   "outputs": [],
   "source": [
    "# chi squared test\n",
    "\"Pval: {:.2f}\".format(stats.chi2_contingency(education_level_vs_risk_rating).pvalue)"
   ]
  },
  {
   "cell_type": "markdown",
   "metadata": {},
   "source": [
    "Insights:\n",
    "- Since the p-value is greater that critical value (0.53 > 0.05), the hypothesis test shown that H0 is fail to rejected.\n",
    "\n",
    "- Which means that **there's no significant evidence that education level and risk rating are having an assosiation**"
   ]
  },
  {
   "cell_type": "markdown",
   "metadata": {},
   "source": [
    "# Conclusions"
   ]
  },
  {
   "cell_type": "markdown",
   "metadata": {},
   "source": [
    "- People who have **high total loan amount and assets tend to have a low financial risk rating.**\n",
    "- The Debt-to-Income Ratio (DTI) is almost identical across all age groups, regardless of whether individuals are unemployed, self-employed, or employed.\n",
    "- All loan purposes are having nearly identical proportion on High Financial Risk Rating\n",
    "- All Age groups categories are also having nearly identical proportion on Financial Risk Ratings categories\n",
    "- **There's no assotiations between DTI and Financial Risk Ratings categories**\n",
    "- **There's no significant assotiations between Education Level and Financial Risk Rating**\n",
    "\n",
    "> Individuals needs to increase their total assets and learn to manage their loan, so they can generate more revenue which can lead to decrease their financial risk rating."
   ]
  },
  {
   "cell_type": "markdown",
   "metadata": {},
   "source": [
    "# Export Clean Data"
   ]
  },
  {
   "cell_type": "code",
   "execution_count": null,
   "metadata": {},
   "outputs": [],
   "source": [
    "# export cleaned dataset into .csv format\n",
    "# df_clean.to_csv(\"dataset/clean_financial_risk_assesment.csv\", index=False)"
   ]
  }
 ],
 "metadata": {
  "kernelspec": {
   "display_name": "hactiv8",
   "language": "python",
   "name": "hactiv8"
  },
  "language_info": {
   "codemirror_mode": {
    "name": "ipython",
    "version": 3
   },
   "file_extension": ".py",
   "mimetype": "text/x-python",
   "name": "python",
   "nbconvert_exporter": "python",
   "pygments_lexer": "ipython3",
   "version": "3.9.19"
  }
 },
 "nbformat": 4,
 "nbformat_minor": 4
}
